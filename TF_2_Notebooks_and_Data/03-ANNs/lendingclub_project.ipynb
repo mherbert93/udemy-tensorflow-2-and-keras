{
 "cells": [
  {
   "cell_type": "code",
   "execution_count": 1,
   "metadata": {
    "collapsed": true
   },
   "outputs": [],
   "source": [
    "import pandas as pd\n",
    "import numpy as np\n",
    "import matplotlib.pyplot as plt\n",
    "import seaborn as sns\n",
    "\n",
    "import tensorflow as tf\n",
    "physical_devices = tf.config.list_physical_devices('GPU')\n",
    "tf.config.experimental.set_memory_growth(physical_devices[0], True)"
   ]
  },
  {
   "cell_type": "code",
   "execution_count": 2,
   "outputs": [],
   "source": [
    "df = pd.read_csv(r'..\\DATA\\lending_club_loan_two.csv')"
   ],
   "metadata": {
    "collapsed": false,
    "pycharm": {
     "name": "#%%\n"
    }
   }
  },
  {
   "cell_type": "code",
   "execution_count": 5,
   "outputs": [
    {
     "data": {
      "text/plain": "                         count          mean           std     min       25%  \\\nloan_amnt             396030.0  14113.888089   8357.441341  500.00   8000.00   \nint_rate              396030.0     13.639400      4.472157    5.32     10.49   \ninstallment           396030.0    431.849698    250.727790   16.08    250.33   \nannual_inc            396030.0  74203.175798  61637.621158    0.00  45000.00   \ndti                   396030.0     17.379514     18.019092    0.00     11.28   \nopen_acc              396030.0     11.311153      5.137649    0.00      8.00   \npub_rec               396030.0      0.178191      0.530671    0.00      0.00   \nrevol_bal             396030.0  15844.539853  20591.836109    0.00   6025.00   \nrevol_util            395754.0     53.791749     24.452193    0.00     35.80   \ntotal_acc             396030.0     25.414744     11.886991    2.00     17.00   \nmort_acc              358235.0      1.813991      2.147930    0.00      0.00   \npub_rec_bankruptcies  395495.0      0.121648      0.356174    0.00      0.00   \n\n                           50%       75%         max  \nloan_amnt             12000.00  20000.00    40000.00  \nint_rate                 13.33     16.49       30.99  \ninstallment             375.43    567.30     1533.81  \nannual_inc            64000.00  90000.00  8706582.00  \ndti                      16.91     22.98     9999.00  \nopen_acc                 10.00     14.00       90.00  \npub_rec                   0.00      0.00       86.00  \nrevol_bal             11181.00  19620.00  1743266.00  \nrevol_util               54.80     72.90      892.30  \ntotal_acc                24.00     32.00      151.00  \nmort_acc                  1.00      3.00       34.00  \npub_rec_bankruptcies      0.00      0.00        8.00  ",
      "text/html": "<div>\n<style scoped>\n    .dataframe tbody tr th:only-of-type {\n        vertical-align: middle;\n    }\n\n    .dataframe tbody tr th {\n        vertical-align: top;\n    }\n\n    .dataframe thead th {\n        text-align: right;\n    }\n</style>\n<table border=\"1\" class=\"dataframe\">\n  <thead>\n    <tr style=\"text-align: right;\">\n      <th></th>\n      <th>count</th>\n      <th>mean</th>\n      <th>std</th>\n      <th>min</th>\n      <th>25%</th>\n      <th>50%</th>\n      <th>75%</th>\n      <th>max</th>\n    </tr>\n  </thead>\n  <tbody>\n    <tr>\n      <th>loan_amnt</th>\n      <td>396030.0</td>\n      <td>14113.888089</td>\n      <td>8357.441341</td>\n      <td>500.00</td>\n      <td>8000.00</td>\n      <td>12000.00</td>\n      <td>20000.00</td>\n      <td>40000.00</td>\n    </tr>\n    <tr>\n      <th>int_rate</th>\n      <td>396030.0</td>\n      <td>13.639400</td>\n      <td>4.472157</td>\n      <td>5.32</td>\n      <td>10.49</td>\n      <td>13.33</td>\n      <td>16.49</td>\n      <td>30.99</td>\n    </tr>\n    <tr>\n      <th>installment</th>\n      <td>396030.0</td>\n      <td>431.849698</td>\n      <td>250.727790</td>\n      <td>16.08</td>\n      <td>250.33</td>\n      <td>375.43</td>\n      <td>567.30</td>\n      <td>1533.81</td>\n    </tr>\n    <tr>\n      <th>annual_inc</th>\n      <td>396030.0</td>\n      <td>74203.175798</td>\n      <td>61637.621158</td>\n      <td>0.00</td>\n      <td>45000.00</td>\n      <td>64000.00</td>\n      <td>90000.00</td>\n      <td>8706582.00</td>\n    </tr>\n    <tr>\n      <th>dti</th>\n      <td>396030.0</td>\n      <td>17.379514</td>\n      <td>18.019092</td>\n      <td>0.00</td>\n      <td>11.28</td>\n      <td>16.91</td>\n      <td>22.98</td>\n      <td>9999.00</td>\n    </tr>\n    <tr>\n      <th>open_acc</th>\n      <td>396030.0</td>\n      <td>11.311153</td>\n      <td>5.137649</td>\n      <td>0.00</td>\n      <td>8.00</td>\n      <td>10.00</td>\n      <td>14.00</td>\n      <td>90.00</td>\n    </tr>\n    <tr>\n      <th>pub_rec</th>\n      <td>396030.0</td>\n      <td>0.178191</td>\n      <td>0.530671</td>\n      <td>0.00</td>\n      <td>0.00</td>\n      <td>0.00</td>\n      <td>0.00</td>\n      <td>86.00</td>\n    </tr>\n    <tr>\n      <th>revol_bal</th>\n      <td>396030.0</td>\n      <td>15844.539853</td>\n      <td>20591.836109</td>\n      <td>0.00</td>\n      <td>6025.00</td>\n      <td>11181.00</td>\n      <td>19620.00</td>\n      <td>1743266.00</td>\n    </tr>\n    <tr>\n      <th>revol_util</th>\n      <td>395754.0</td>\n      <td>53.791749</td>\n      <td>24.452193</td>\n      <td>0.00</td>\n      <td>35.80</td>\n      <td>54.80</td>\n      <td>72.90</td>\n      <td>892.30</td>\n    </tr>\n    <tr>\n      <th>total_acc</th>\n      <td>396030.0</td>\n      <td>25.414744</td>\n      <td>11.886991</td>\n      <td>2.00</td>\n      <td>17.00</td>\n      <td>24.00</td>\n      <td>32.00</td>\n      <td>151.00</td>\n    </tr>\n    <tr>\n      <th>mort_acc</th>\n      <td>358235.0</td>\n      <td>1.813991</td>\n      <td>2.147930</td>\n      <td>0.00</td>\n      <td>0.00</td>\n      <td>1.00</td>\n      <td>3.00</td>\n      <td>34.00</td>\n    </tr>\n    <tr>\n      <th>pub_rec_bankruptcies</th>\n      <td>395495.0</td>\n      <td>0.121648</td>\n      <td>0.356174</td>\n      <td>0.00</td>\n      <td>0.00</td>\n      <td>0.00</td>\n      <td>0.00</td>\n      <td>8.00</td>\n    </tr>\n  </tbody>\n</table>\n</div>"
     },
     "execution_count": 5,
     "metadata": {},
     "output_type": "execute_result"
    }
   ],
   "source": [
    "df.describe().transpose()"
   ],
   "metadata": {
    "collapsed": false,
    "pycharm": {
     "name": "#%%\n"
    }
   }
  },
  {
   "cell_type": "code",
   "execution_count": 6,
   "outputs": [
    {
     "data": {
      "text/plain": "   loan_amnt        term  int_rate  installment grade sub_grade  \\\n0    10000.0   36 months     11.44       329.48     B        B4   \n1     8000.0   36 months     11.99       265.68     B        B5   \n2    15600.0   36 months     10.49       506.97     B        B3   \n3     7200.0   36 months      6.49       220.65     A        A2   \n4    24375.0   60 months     17.27       609.33     C        C5   \n\n                 emp_title emp_length home_ownership  annual_inc  ...  \\\n0                Marketing  10+ years           RENT    117000.0  ...   \n1          Credit analyst     4 years       MORTGAGE     65000.0  ...   \n2             Statistician   < 1 year           RENT     43057.0  ...   \n3          Client Advocate    6 years           RENT     54000.0  ...   \n4  Destiny Management Inc.    9 years       MORTGAGE     55000.0  ...   \n\n  open_acc pub_rec revol_bal revol_util total_acc  initial_list_status  \\\n0     16.0     0.0   36369.0       41.8      25.0                    w   \n1     17.0     0.0   20131.0       53.3      27.0                    f   \n2     13.0     0.0   11987.0       92.2      26.0                    f   \n3      6.0     0.0    5472.0       21.5      13.0                    f   \n4     13.0     0.0   24584.0       69.8      43.0                    f   \n\n  application_type  mort_acc  pub_rec_bankruptcies  \\\n0       INDIVIDUAL       0.0                   0.0   \n1       INDIVIDUAL       3.0                   0.0   \n2       INDIVIDUAL       0.0                   0.0   \n3       INDIVIDUAL       0.0                   0.0   \n4       INDIVIDUAL       1.0                   0.0   \n\n                                             address  \n0     0174 Michelle Gateway\\r\\nMendozaberg, OK 22690  \n1  1076 Carney Fort Apt. 347\\r\\nLoganmouth, SD 05113  \n2  87025 Mark Dale Apt. 269\\r\\nNew Sabrina, WV 05113  \n3            823 Reid Ford\\r\\nDelacruzside, MA 00813  \n4             679 Luna Roads\\r\\nGreggshire, VA 11650  \n\n[5 rows x 27 columns]",
      "text/html": "<div>\n<style scoped>\n    .dataframe tbody tr th:only-of-type {\n        vertical-align: middle;\n    }\n\n    .dataframe tbody tr th {\n        vertical-align: top;\n    }\n\n    .dataframe thead th {\n        text-align: right;\n    }\n</style>\n<table border=\"1\" class=\"dataframe\">\n  <thead>\n    <tr style=\"text-align: right;\">\n      <th></th>\n      <th>loan_amnt</th>\n      <th>term</th>\n      <th>int_rate</th>\n      <th>installment</th>\n      <th>grade</th>\n      <th>sub_grade</th>\n      <th>emp_title</th>\n      <th>emp_length</th>\n      <th>home_ownership</th>\n      <th>annual_inc</th>\n      <th>...</th>\n      <th>open_acc</th>\n      <th>pub_rec</th>\n      <th>revol_bal</th>\n      <th>revol_util</th>\n      <th>total_acc</th>\n      <th>initial_list_status</th>\n      <th>application_type</th>\n      <th>mort_acc</th>\n      <th>pub_rec_bankruptcies</th>\n      <th>address</th>\n    </tr>\n  </thead>\n  <tbody>\n    <tr>\n      <th>0</th>\n      <td>10000.0</td>\n      <td>36 months</td>\n      <td>11.44</td>\n      <td>329.48</td>\n      <td>B</td>\n      <td>B4</td>\n      <td>Marketing</td>\n      <td>10+ years</td>\n      <td>RENT</td>\n      <td>117000.0</td>\n      <td>...</td>\n      <td>16.0</td>\n      <td>0.0</td>\n      <td>36369.0</td>\n      <td>41.8</td>\n      <td>25.0</td>\n      <td>w</td>\n      <td>INDIVIDUAL</td>\n      <td>0.0</td>\n      <td>0.0</td>\n      <td>0174 Michelle Gateway\\r\\nMendozaberg, OK 22690</td>\n    </tr>\n    <tr>\n      <th>1</th>\n      <td>8000.0</td>\n      <td>36 months</td>\n      <td>11.99</td>\n      <td>265.68</td>\n      <td>B</td>\n      <td>B5</td>\n      <td>Credit analyst</td>\n      <td>4 years</td>\n      <td>MORTGAGE</td>\n      <td>65000.0</td>\n      <td>...</td>\n      <td>17.0</td>\n      <td>0.0</td>\n      <td>20131.0</td>\n      <td>53.3</td>\n      <td>27.0</td>\n      <td>f</td>\n      <td>INDIVIDUAL</td>\n      <td>3.0</td>\n      <td>0.0</td>\n      <td>1076 Carney Fort Apt. 347\\r\\nLoganmouth, SD 05113</td>\n    </tr>\n    <tr>\n      <th>2</th>\n      <td>15600.0</td>\n      <td>36 months</td>\n      <td>10.49</td>\n      <td>506.97</td>\n      <td>B</td>\n      <td>B3</td>\n      <td>Statistician</td>\n      <td>&lt; 1 year</td>\n      <td>RENT</td>\n      <td>43057.0</td>\n      <td>...</td>\n      <td>13.0</td>\n      <td>0.0</td>\n      <td>11987.0</td>\n      <td>92.2</td>\n      <td>26.0</td>\n      <td>f</td>\n      <td>INDIVIDUAL</td>\n      <td>0.0</td>\n      <td>0.0</td>\n      <td>87025 Mark Dale Apt. 269\\r\\nNew Sabrina, WV 05113</td>\n    </tr>\n    <tr>\n      <th>3</th>\n      <td>7200.0</td>\n      <td>36 months</td>\n      <td>6.49</td>\n      <td>220.65</td>\n      <td>A</td>\n      <td>A2</td>\n      <td>Client Advocate</td>\n      <td>6 years</td>\n      <td>RENT</td>\n      <td>54000.0</td>\n      <td>...</td>\n      <td>6.0</td>\n      <td>0.0</td>\n      <td>5472.0</td>\n      <td>21.5</td>\n      <td>13.0</td>\n      <td>f</td>\n      <td>INDIVIDUAL</td>\n      <td>0.0</td>\n      <td>0.0</td>\n      <td>823 Reid Ford\\r\\nDelacruzside, MA 00813</td>\n    </tr>\n    <tr>\n      <th>4</th>\n      <td>24375.0</td>\n      <td>60 months</td>\n      <td>17.27</td>\n      <td>609.33</td>\n      <td>C</td>\n      <td>C5</td>\n      <td>Destiny Management Inc.</td>\n      <td>9 years</td>\n      <td>MORTGAGE</td>\n      <td>55000.0</td>\n      <td>...</td>\n      <td>13.0</td>\n      <td>0.0</td>\n      <td>24584.0</td>\n      <td>69.8</td>\n      <td>43.0</td>\n      <td>f</td>\n      <td>INDIVIDUAL</td>\n      <td>1.0</td>\n      <td>0.0</td>\n      <td>679 Luna Roads\\r\\nGreggshire, VA 11650</td>\n    </tr>\n  </tbody>\n</table>\n<p>5 rows × 27 columns</p>\n</div>"
     },
     "execution_count": 6,
     "metadata": {},
     "output_type": "execute_result"
    }
   ],
   "source": [
    "df.head()"
   ],
   "metadata": {
    "collapsed": false,
    "pycharm": {
     "name": "#%%\n"
    }
   }
  },
  {
   "cell_type": "code",
   "execution_count": 8,
   "outputs": [
    {
     "data": {
      "text/plain": "loan_amnt                   0\nterm                        0\nint_rate                    0\ninstallment                 0\ngrade                       0\nsub_grade                   0\nemp_title               22927\nemp_length              18301\nhome_ownership              0\nannual_inc                  0\nverification_status         0\nissue_d                     0\nloan_status                 0\npurpose                     0\ntitle                    1755\ndti                         0\nearliest_cr_line            0\nopen_acc                    0\npub_rec                     0\nrevol_bal                   0\nrevol_util                276\ntotal_acc                   0\ninitial_list_status         0\napplication_type            0\nmort_acc                37795\npub_rec_bankruptcies      535\naddress                     0\ndtype: int64"
     },
     "execution_count": 8,
     "metadata": {},
     "output_type": "execute_result"
    }
   ],
   "source": [
    "df.isnull().sum()"
   ],
   "metadata": {
    "collapsed": false,
    "pycharm": {
     "name": "#%%\n"
    }
   }
  },
  {
   "cell_type": "code",
   "execution_count": 9,
   "outputs": [
    {
     "data": {
      "text/plain": "loan_amnt               float64\nterm                     object\nint_rate                float64\ninstallment             float64\ngrade                    object\nsub_grade                object\nemp_title                object\nemp_length               object\nhome_ownership           object\nannual_inc              float64\nverification_status      object\nissue_d                  object\nloan_status              object\npurpose                  object\ntitle                    object\ndti                     float64\nearliest_cr_line         object\nopen_acc                float64\npub_rec                 float64\nrevol_bal               float64\nrevol_util              float64\ntotal_acc               float64\ninitial_list_status      object\napplication_type         object\nmort_acc                float64\npub_rec_bankruptcies    float64\naddress                  object\ndtype: object"
     },
     "execution_count": 9,
     "metadata": {},
     "output_type": "execute_result"
    }
   ],
   "source": [
    "df.dtypes"
   ],
   "metadata": {
    "collapsed": false,
    "pycharm": {
     "name": "#%%\n"
    }
   }
  },
  {
   "cell_type": "code",
   "execution_count": 11,
   "outputs": [
    {
     "data": {
      "text/plain": "<Figure size 432x288 with 1 Axes>",
      "image/png": "[encoded data removed]"
     },
     "metadata": {
      "needs_background": "light"
     },
     "output_type": "display_data"
    }
   ],
   "source": [],
   "metadata": {
    "collapsed": false,
    "pycharm": {
     "name": "#%%\n"
    }
   }
  }
 ],
 "metadata": {
  "kernelspec": {
   "name": "unit4-sprint2",
   "language": "python",
   "display_name": "Unit4-Sprint2 (Python3)"
  },
  "language_info": {
   "codemirror_mode": {
    "name": "ipython",
    "version": 2
   },
   "file_extension": ".py",
   "mimetype": "text/x-python",
   "name": "python",
   "nbconvert_exporter": "python",
   "pygments_lexer": "ipython2",
   "version": "2.7.6"
  }
 },
 "nbformat": 4,
 "nbformat_minor": 0
}