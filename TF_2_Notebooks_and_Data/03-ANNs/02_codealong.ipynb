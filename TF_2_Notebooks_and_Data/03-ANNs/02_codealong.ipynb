{
 "cells": [
  {
   "cell_type": "code",
   "execution_count": 1,
   "metadata": {
    "collapsed": true
   },
   "outputs": [],
   "source": [
    "import pandas as pd\n",
    "import numpy as np\n",
    "import matplotlib.pyplot as plt\n",
    "import seaborn as sns\n",
    "\n",
    "import tensorflow as tf\n",
    "physical_devices = tf.config.list_physical_devices('GPU')\n",
    "tf.config.experimental.set_memory_growth(physical_devices[0], True)"
   ]
  },
  {
   "cell_type": "code",
   "execution_count": 2,
   "outputs": [],
   "source": [
    "df = pd.read_csv(r'..\\DATA\\cancer_classification.csv')"
   ],
   "metadata": {
    "collapsed": false,
    "pycharm": {
     "name": "#%%\n"
    }
   }
  },
  {
   "cell_type": "code",
   "execution_count": 3,
   "outputs": [
    {
     "data": {
      "text/plain": "                         count        mean         std         min  \\\nmean radius              569.0   14.127292    3.524049    6.981000   \nmean texture             569.0   19.289649    4.301036    9.710000   \nmean perimeter           569.0   91.969033   24.298981   43.790000   \nmean area                569.0  654.889104  351.914129  143.500000   \nmean smoothness          569.0    0.096360    0.014064    0.052630   \nmean compactness         569.0    0.104341    0.052813    0.019380   \nmean concavity           569.0    0.088799    0.079720    0.000000   \nmean concave points      569.0    0.048919    0.038803    0.000000   \nmean symmetry            569.0    0.181162    0.027414    0.106000   \nmean fractal dimension   569.0    0.062798    0.007060    0.049960   \nradius error             569.0    0.405172    0.277313    0.111500   \ntexture error            569.0    1.216853    0.551648    0.360200   \nperimeter error          569.0    2.866059    2.021855    0.757000   \narea error               569.0   40.337079   45.491006    6.802000   \nsmoothness error         569.0    0.007041    0.003003    0.001713   \ncompactness error        569.0    0.025478    0.017908    0.002252   \nconcavity error          569.0    0.031894    0.030186    0.000000   \nconcave points error     569.0    0.011796    0.006170    0.000000   \nsymmetry error           569.0    0.020542    0.008266    0.007882   \nfractal dimension error  569.0    0.003795    0.002646    0.000895   \nworst radius             569.0   16.269190    4.833242    7.930000   \nworst texture            569.0   25.677223    6.146258   12.020000   \nworst perimeter          569.0  107.261213   33.602542   50.410000   \nworst area               569.0  880.583128  569.356993  185.200000   \nworst smoothness         569.0    0.132369    0.022832    0.071170   \nworst compactness        569.0    0.254265    0.157336    0.027290   \nworst concavity          569.0    0.272188    0.208624    0.000000   \nworst concave points     569.0    0.114606    0.065732    0.000000   \nworst symmetry           569.0    0.290076    0.061867    0.156500   \nworst fractal dimension  569.0    0.083946    0.018061    0.055040   \nbenign_0__mal_1          569.0    0.627417    0.483918    0.000000   \n\n                                25%         50%          75%         max  \nmean radius               11.700000   13.370000    15.780000    28.11000  \nmean texture              16.170000   18.840000    21.800000    39.28000  \nmean perimeter            75.170000   86.240000   104.100000   188.50000  \nmean area                420.300000  551.100000   782.700000  2501.00000  \nmean smoothness            0.086370    0.095870     0.105300     0.16340  \nmean compactness           0.064920    0.092630     0.130400     0.34540  \nmean concavity             0.029560    0.061540     0.130700     0.42680  \nmean concave points        0.020310    0.033500     0.074000     0.20120  \nmean symmetry              0.161900    0.179200     0.195700     0.30400  \nmean fractal dimension     0.057700    0.061540     0.066120     0.09744  \nradius error               0.232400    0.324200     0.478900     2.87300  \ntexture error              0.833900    1.108000     1.474000     4.88500  \nperimeter error            1.606000    2.287000     3.357000    21.98000  \narea error                17.850000   24.530000    45.190000   542.20000  \nsmoothness error           0.005169    0.006380     0.008146     0.03113  \ncompactness error          0.013080    0.020450     0.032450     0.13540  \nconcavity error            0.015090    0.025890     0.042050     0.39600  \nconcave points error       0.007638    0.010930     0.014710     0.05279  \nsymmetry error             0.015160    0.018730     0.023480     0.07895  \nfractal dimension error    0.002248    0.003187     0.004558     0.02984  \nworst radius              13.010000   14.970000    18.790000    36.04000  \nworst texture             21.080000   25.410000    29.720000    49.54000  \nworst perimeter           84.110000   97.660000   125.400000   251.20000  \nworst area               515.300000  686.500000  1084.000000  4254.00000  \nworst smoothness           0.116600    0.131300     0.146000     0.22260  \nworst compactness          0.147200    0.211900     0.339100     1.05800  \nworst concavity            0.114500    0.226700     0.382900     1.25200  \nworst concave points       0.064930    0.099930     0.161400     0.29100  \nworst symmetry             0.250400    0.282200     0.317900     0.66380  \nworst fractal dimension    0.071460    0.080040     0.092080     0.20750  \nbenign_0__mal_1            0.000000    1.000000     1.000000     1.00000  ",
      "text/html": "<div>\n<style scoped>\n    .dataframe tbody tr th:only-of-type {\n        vertical-align: middle;\n    }\n\n    .dataframe tbody tr th {\n        vertical-align: top;\n    }\n\n    .dataframe thead th {\n        text-align: right;\n    }\n</style>\n<table border=\"1\" class=\"dataframe\">\n  <thead>\n    <tr style=\"text-align: right;\">\n      <th></th>\n      <th>count</th>\n      <th>mean</th>\n      <th>std</th>\n      <th>min</th>\n      <th>25%</th>\n      <th>50%</th>\n      <th>75%</th>\n      <th>max</th>\n    </tr>\n  </thead>\n  <tbody>\n    <tr>\n      <th>mean radius</th>\n      <td>569.0</td>\n      <td>14.127292</td>\n      <td>3.524049</td>\n      <td>6.981000</td>\n      <td>11.700000</td>\n      <td>13.370000</td>\n      <td>15.780000</td>\n      <td>28.11000</td>\n    </tr>\n    <tr>\n      <th>mean texture</th>\n      <td>569.0</td>\n      <td>19.289649</td>\n      <td>4.301036</td>\n      <td>9.710000</td>\n      <td>16.170000</td>\n      <td>18.840000</td>\n      <td>21.800000</td>\n      <td>39.28000</td>\n    </tr>\n    <tr>\n      <th>mean perimeter</th>\n      <td>569.0</td>\n      <td>91.969033</td>\n      <td>24.298981</td>\n      <td>43.790000</td>\n      <td>75.170000</td>\n      <td>86.240000</td>\n      <td>104.100000</td>\n      <td>188.50000</td>\n    </tr>\n    <tr>\n      <th>mean area</th>\n      <td>569.0</td>\n      <td>654.889104</td>\n      <td>351.914129</td>\n      <td>143.500000</td>\n      <td>420.300000</td>\n      <td>551.100000</td>\n      <td>782.700000</td>\n      <td>2501.00000</td>\n    </tr>\n    <tr>\n      <th>mean smoothness</th>\n      <td>569.0</td>\n      <td>0.096360</td>\n      <td>0.014064</td>\n      <td>0.052630</td>\n      <td>0.086370</td>\n      <td>0.095870</td>\n      <td>0.105300</td>\n      <td>0.16340</td>\n    </tr>\n    <tr>\n      <th>mean compactness</th>\n      <td>569.0</td>\n      <td>0.104341</td>\n      <td>0.052813</td>\n      <td>0.019380</td>\n      <td>0.064920</td>\n      <td>0.092630</td>\n      <td>0.130400</td>\n      <td>0.34540</td>\n    </tr>\n    <tr>\n      <th>mean concavity</th>\n      <td>569.0</td>\n      <td>0.088799</td>\n      <td>0.079720</td>\n      <td>0.000000</td>\n      <td>0.029560</td>\n      <td>0.061540</td>\n      <td>0.130700</td>\n      <td>0.42680</td>\n    </tr>\n    <tr>\n      <th>mean concave points</th>\n      <td>569.0</td>\n      <td>0.048919</td>\n      <td>0.038803</td>\n      <td>0.000000</td>\n      <td>0.020310</td>\n      <td>0.033500</td>\n      <td>0.074000</td>\n      <td>0.20120</td>\n    </tr>\n    <tr>\n      <th>mean symmetry</th>\n      <td>569.0</td>\n      <td>0.181162</td>\n      <td>0.027414</td>\n      <td>0.106000</td>\n      <td>0.161900</td>\n      <td>0.179200</td>\n      <td>0.195700</td>\n      <td>0.30400</td>\n    </tr>\n    <tr>\n      <th>mean fractal dimension</th>\n      <td>569.0</td>\n      <td>0.062798</td>\n      <td>0.007060</td>\n      <td>0.049960</td>\n      <td>0.057700</td>\n      <td>0.061540</td>\n      <td>0.066120</td>\n      <td>0.09744</td>\n    </tr>\n    <tr>\n      <th>radius error</th>\n      <td>569.0</td>\n      <td>0.405172</td>\n      <td>0.277313</td>\n      <td>0.111500</td>\n      <td>0.232400</td>\n      <td>0.324200</td>\n      <td>0.478900</td>\n      <td>2.87300</td>\n    </tr>\n    <tr>\n      <th>texture error</th>\n      <td>569.0</td>\n      <td>1.216853</td>\n      <td>0.551648</td>\n      <td>0.360200</td>\n      <td>0.833900</td>\n      <td>1.108000</td>\n      <td>1.474000</td>\n      <td>4.88500</td>\n    </tr>\n    <tr>\n      <th>perimeter error</th>\n      <td>569.0</td>\n      <td>2.866059</td>\n      <td>2.021855</td>\n      <td>0.757000</td>\n      <td>1.606000</td>\n      <td>2.287000</td>\n      <td>3.357000</td>\n      <td>21.98000</td>\n    </tr>\n    <tr>\n      <th>area error</th>\n      <td>569.0</td>\n      <td>40.337079</td>\n      <td>45.491006</td>\n      <td>6.802000</td>\n      <td>17.850000</td>\n      <td>24.530000</td>\n      <td>45.190000</td>\n      <td>542.20000</td>\n    </tr>\n    <tr>\n      <th>smoothness error</th>\n      <td>569.0</td>\n      <td>0.007041</td>\n      <td>0.003003</td>\n      <td>0.001713</td>\n      <td>0.005169</td>\n      <td>0.006380</td>\n      <td>0.008146</td>\n      <td>0.03113</td>\n    </tr>\n    <tr>\n      <th>compactness error</th>\n      <td>569.0</td>\n      <td>0.025478</td>\n      <td>0.017908</td>\n      <td>0.002252</td>\n      <td>0.013080</td>\n      <td>0.020450</td>\n      <td>0.032450</td>\n      <td>0.13540</td>\n    </tr>\n    <tr>\n      <th>concavity error</th>\n      <td>569.0</td>\n      <td>0.031894</td>\n      <td>0.030186</td>\n      <td>0.000000</td>\n      <td>0.015090</td>\n      <td>0.025890</td>\n      <td>0.042050</td>\n      <td>0.39600</td>\n    </tr>\n    <tr>\n      <th>concave points error</th>\n      <td>569.0</td>\n      <td>0.011796</td>\n      <td>0.006170</td>\n      <td>0.000000</td>\n      <td>0.007638</td>\n      <td>0.010930</td>\n      <td>0.014710</td>\n      <td>0.05279</td>\n    </tr>\n    <tr>\n      <th>symmetry error</th>\n      <td>569.0</td>\n      <td>0.020542</td>\n      <td>0.008266</td>\n      <td>0.007882</td>\n      <td>0.015160</td>\n      <td>0.018730</td>\n      <td>0.023480</td>\n      <td>0.07895</td>\n    </tr>\n    <tr>\n      <th>fractal dimension error</th>\n      <td>569.0</td>\n      <td>0.003795</td>\n      <td>0.002646</td>\n      <td>0.000895</td>\n      <td>0.002248</td>\n      <td>0.003187</td>\n      <td>0.004558</td>\n      <td>0.02984</td>\n    </tr>\n    <tr>\n      <th>worst radius</th>\n      <td>569.0</td>\n      <td>16.269190</td>\n      <td>4.833242</td>\n      <td>7.930000</td>\n      <td>13.010000</td>\n      <td>14.970000</td>\n      <td>18.790000</td>\n      <td>36.04000</td>\n    </tr>\n    <tr>\n      <th>worst texture</th>\n      <td>569.0</td>\n      <td>25.677223</td>\n      <td>6.146258</td>\n      <td>12.020000</td>\n      <td>21.080000</td>\n      <td>25.410000</td>\n      <td>29.720000</td>\n      <td>49.54000</td>\n    </tr>\n    <tr>\n      <th>worst perimeter</th>\n      <td>569.0</td>\n      <td>107.261213</td>\n      <td>33.602542</td>\n      <td>50.410000</td>\n      <td>84.110000</td>\n      <td>97.660000</td>\n      <td>125.400000</td>\n      <td>251.20000</td>\n    </tr>\n    <tr>\n      <th>worst area</th>\n      <td>569.0</td>\n      <td>880.583128</td>\n      <td>569.356993</td>\n      <td>185.200000</td>\n      <td>515.300000</td>\n      <td>686.500000</td>\n      <td>1084.000000</td>\n      <td>4254.00000</td>\n    </tr>\n    <tr>\n      <th>worst smoothness</th>\n      <td>569.0</td>\n      <td>0.132369</td>\n      <td>0.022832</td>\n      <td>0.071170</td>\n      <td>0.116600</td>\n      <td>0.131300</td>\n      <td>0.146000</td>\n      <td>0.22260</td>\n    </tr>\n    <tr>\n      <th>worst compactness</th>\n      <td>569.0</td>\n      <td>0.254265</td>\n      <td>0.157336</td>\n      <td>0.027290</td>\n      <td>0.147200</td>\n      <td>0.211900</td>\n      <td>0.339100</td>\n      <td>1.05800</td>\n    </tr>\n    <tr>\n      <th>worst concavity</th>\n      <td>569.0</td>\n      <td>0.272188</td>\n      <td>0.208624</td>\n      <td>0.000000</td>\n      <td>0.114500</td>\n      <td>0.226700</td>\n      <td>0.382900</td>\n      <td>1.25200</td>\n    </tr>\n    <tr>\n      <th>worst concave points</th>\n      <td>569.0</td>\n      <td>0.114606</td>\n      <td>0.065732</td>\n      <td>0.000000</td>\n      <td>0.064930</td>\n      <td>0.099930</td>\n      <td>0.161400</td>\n      <td>0.29100</td>\n    </tr>\n    <tr>\n      <th>worst symmetry</th>\n      <td>569.0</td>\n      <td>0.290076</td>\n      <td>0.061867</td>\n      <td>0.156500</td>\n      <td>0.250400</td>\n      <td>0.282200</td>\n      <td>0.317900</td>\n      <td>0.66380</td>\n    </tr>\n    <tr>\n      <th>worst fractal dimension</th>\n      <td>569.0</td>\n      <td>0.083946</td>\n      <td>0.018061</td>\n      <td>0.055040</td>\n      <td>0.071460</td>\n      <td>0.080040</td>\n      <td>0.092080</td>\n      <td>0.20750</td>\n    </tr>\n    <tr>\n      <th>benign_0__mal_1</th>\n      <td>569.0</td>\n      <td>0.627417</td>\n      <td>0.483918</td>\n      <td>0.000000</td>\n      <td>0.000000</td>\n      <td>1.000000</td>\n      <td>1.000000</td>\n      <td>1.00000</td>\n    </tr>\n  </tbody>\n</table>\n</div>"
     },
     "execution_count": 3,
     "metadata": {},
     "output_type": "execute_result"
    }
   ],
   "source": [
    "df.describe().transpose()"
   ],
   "metadata": {
    "collapsed": false,
    "pycharm": {
     "name": "#%%\n"
    }
   }
  },
  {
   "cell_type": "code",
   "execution_count": 4,
   "outputs": [
    {
     "data": {
      "text/plain": "<matplotlib.axes._subplots.AxesSubplot at 0x1d312996d88>"
     },
     "execution_count": 4,
     "metadata": {},
     "output_type": "execute_result"
    },
    {
     "data": {
      "text/plain": "<Figure size 432x288 with 1 Axes>",
      "image/png": "[encoded data removed]"
     },
     "metadata": {
      "needs_background": "light"
     },
     "output_type": "display_data"
    }
   ],
   "source": [
    "sns.countplot(x='benign_0__mal_1', data=df)"
   ],
   "metadata": {
    "collapsed": false,
    "pycharm": {
     "name": "#%%\n"
    }
   }
  },
  {
   "cell_type": "code",
   "execution_count": 5,
   "outputs": [
    {
     "data": {
      "text/plain": "<matplotlib.axes._subplots.AxesSubplot at 0x1d318e62e48>"
     },
     "execution_count": 5,
     "metadata": {},
     "output_type": "execute_result"
    },
    {
     "data": {
      "text/plain": "<Figure size 432x288 with 1 Axes>",
      "image/png": "[encoded data removed]"
     },
     "metadata": {
      "needs_background": "light"
     },
     "output_type": "display_data"
    }
   ],
   "source": [
    "df.corr()['benign_0__mal_1'][:-1].sort_values().plot(kind='bar')"
   ],
   "metadata": {
    "collapsed": false,
    "pycharm": {
     "name": "#%%\n"
    }
   }
  },
  {
   "cell_type": "code",
   "execution_count": 6,
   "outputs": [],
   "source": [
    "X = df.drop('benign_0__mal_1', axis=1).values\n",
    "y = df['benign_0__mal_1'].values"
   ],
   "metadata": {
    "collapsed": false,
    "pycharm": {
     "name": "#%%\n"
    }
   }
  },
  {
   "cell_type": "code",
   "execution_count": 7,
   "outputs": [],
   "source": [
    "from sklearn.model_selection import train_test_split"
   ],
   "metadata": {
    "collapsed": false,
    "pycharm": {
     "name": "#%%\n"
    }
   }
  },
  {
   "cell_type": "code",
   "execution_count": 8,
   "outputs": [],
   "source": [
    "X_train, X_test, y_train, y_test = train_test_split(X, y, test_size=0.25, random_state=101)"
   ],
   "metadata": {
    "collapsed": false,
    "pycharm": {
     "name": "#%%\n"
    }
   }
  },
  {
   "cell_type": "code",
   "execution_count": 9,
   "outputs": [],
   "source": [
    "from sklearn.preprocessing import MinMaxScaler"
   ],
   "metadata": {
    "collapsed": false,
    "pycharm": {
     "name": "#%%\n"
    }
   }
  },
  {
   "cell_type": "code",
   "execution_count": 10,
   "outputs": [],
   "source": [
    "scaler = MinMaxScaler()\n",
    "\n",
    "X_train = scaler.fit_transform(X_train)\n",
    "X_test = scaler.transform(X_test)"
   ],
   "metadata": {
    "collapsed": false,
    "pycharm": {
     "name": "#%%\n"
    }
   }
  },
  {
   "cell_type": "code",
   "execution_count": 11,
   "outputs": [],
   "source": [
    "from tensorflow.keras.models import Sequential\n",
    "from tensorflow.keras.layers import Dense, Dropout"
   ],
   "metadata": {
    "collapsed": false,
    "pycharm": {
     "name": "#%%\n"
    }
   }
  },
  {
   "cell_type": "code",
   "execution_count": 12,
   "outputs": [
    {
     "data": {
      "text/plain": "(426, 30)"
     },
     "execution_count": 12,
     "metadata": {},
     "output_type": "execute_result"
    }
   ],
   "source": [
    "X_train.shape"
   ],
   "metadata": {
    "collapsed": false,
    "pycharm": {
     "name": "#%%\n"
    }
   }
  },
  {
   "cell_type": "code",
   "execution_count": 13,
   "outputs": [],
   "source": [
    "model = Sequential()\n",
    "\n",
    "model.add(Dense(30, activation='relu'))\n",
    "model.add(Dense(15, activation='relu'))\n",
    "model.add(Dense(1, activation='sigmoid')) # Binary classification\n",
    "\n",
    "model.compile(loss='binary_crossentropy', optimizer='adam')"
   ],
   "metadata": {
    "collapsed": false,
    "pycharm": {
     "name": "#%%\n"
    }
   }
  },
  {
   "cell_type": "code",
   "execution_count": 14,
   "outputs": [
    {
     "name": "stdout",
     "output_type": "stream",
     "text": [
      "Epoch 1/9999\n",
      "14/14 [==============================] - 0s 8ms/step - loss: 0.6962 - val_loss: 0.6803\b\b\b\b\b\b\b\b\b\b\b\b\b\b\b\b\b\b\b\b\b\b\b\b\b\b\b\b\b\b\b\b\b\b\b\b\b\b\b\b\n",
      "Epoch 2/9999\n",
      "14/14 [==============================] - 0s 2ms/step - loss: 0.6704 - val_loss: 0.6583\b\b\b\b\b\b\b\b\b\b\b\b\b\b\b\b\b\b\b\b\b\b\b\b\b\b\b\b\b\b\b\b\b\b\b\b\b\b\b\b\n",
      "Epoch 3/9999\n",
      "14/14 [==============================] - 0s 2ms/step - loss: 0.6444 - val_loss: 0.6285\b\b\b\b\b\b\b\b\b\b\b\b\b\b\b\b\b\b\b\b\b\b\b\b\b\b\b\b\b\b\b\b\b\b\b\b\b\b\b\b\n",
      "Epoch 4/9999\n",
      "14/14 [==============================] - 0s 2ms/step - loss: 0.6119 - val_loss: 0.5915\b\b\b\b\b\b\b\b\b\b\b\b\b\b\b\b\b\b\b\b\b\b\b\b\b\b\b\b\b\b\b\b\b\b\b\b\b\b\b\b\n",
      "Epoch 5/9999\n",
      "14/14 [==============================] - 0s 2ms/step - loss: 0.5732 - val_loss: 0.5488\b\b\b\b\b\b\b\b\b\b\b\b\b\b\b\b\b\b\b\b\b\b\b\b\b\b\b\b\b\b\b\b\b\b\b\b\b\b\b\b\n",
      "Epoch 6/9999\n",
      "14/14 [==============================] - 0s 3ms/step - loss: 0.5316 - val_loss: 0.5005\b\b\b\b\b\b\b\b\b\b\b\b\b\b\b\b\b\b\b\b\b\b\b\b\b\b\b\b\b\b\b\b\b\b\b\b\b\b\b\b\n",
      "Epoch 7/9999\n",
      "14/14 [==============================] - 0s 3ms/step - loss: 0.4819 - val_loss: 0.4518\b\b\b\b\b\b\b\b\b\b\b\b\b\b\b\b\b\b\b\b\b\b\b\b\b\b\b\b\b\b\b\b\b\b\b\b\b\b\b\b\n",
      "Epoch 8/9999\n",
      "14/14 [==============================] - 0s 2ms/step - loss: 0.4345 - val_loss: 0.4016\b\b\b\b\b\b\b\b\b\b\b\b\b\b\b\b\b\b\b\b\b\b\b\b\b\b\b\b\b\b\b\b\b\b\b\b\b\b\b\b\n",
      "Epoch 9/9999\n",
      "14/14 [==============================] - 0s 3ms/step - loss: 0.3892 - val_loss: 0.3553\b\b\b\b\b\b\b\b\b\b\b\b\b\b\b\b\b\b\b\b\b\b\b\b\b\b\b\b\b\b\b\b\b\b\b\b\b\b\b\b\n",
      "Epoch 10/9999\n",
      "14/14 [==============================] - 0s 2ms/step - loss: 0.3473 - val_loss: 0.3154\b\b\b\b\b\b\b\b\b\b\b\b\b\b\b\b\b\b\b\b\b\b\b\b\b\b\b\b\b\b\b\b\b\b\b\b\b\b\b\b\n",
      "Epoch 11/9999\n",
      "14/14 [==============================] - 0s 2ms/step - loss: 0.3133 - val_loss: 0.2820\b\b\b\b\b\b\b\b\b\b\b\b\b\b\b\b\b\b\b\b\b\b\b\b\b\b\b\b\b\b\b\b\b\b\b\b\b\b\b\b\n",
      "Epoch 12/9999\n",
      "14/14 [==============================] - 0s 2ms/step - loss: 0.2864 - val_loss: 0.2547\b\b\b\b\b\b\b\b\b\b\b\b\b\b\b\b\b\b\b\b\b\b\b\b\b\b\b\b\b\b\b\b\b\b\b\b\b\b\b\b\n",
      "Epoch 13/9999\n",
      "14/14 [==============================] - 0s 2ms/step - loss: 0.2602 - val_loss: 0.2339\b\b\b\b\b\b\b\b\b\b\b\b\b\b\b\b\b\b\b\b\b\b\b\b\b\b\b\b\b\b\b\b\b\b\b\b\b\b\b\b\n",
      "Epoch 14/9999\n",
      "14/14 [==============================] - 0s 2ms/step - loss: 0.2416 - val_loss: 0.2140\b\b\b\b\b\b\b\b\b\b\b\b\b\b\b\b\b\b\b\b\b\b\b\b\b\b\b\b\b\b\b\b\b\b\b\b\b\b\b\b\n",
      "Epoch 15/9999\n",
      "14/14 [==============================] - 0s 3ms/step - loss: 0.2240 - val_loss: 0.1988\b\b\b\b\b\b\b\b\b\b\b\b\b\b\b\b\b\b\b\b\b\b\b\b\b\b\b\b\b\b\b\b\b\b\b\b\b\b\b\b\n",
      "Epoch 16/9999\n",
      "14/14 [==============================] - 0s 3ms/step - loss: 0.2102 - val_loss: 0.1862\b\b\b\b\b\b\b\b\b\b\b\b\b\b\b\b\b\b\b\b\b\b\b\b\b\b\b\b\b\b\b\b\b\b\b\b\b\b\b\b\n",
      "Epoch 17/9999\n",
      "14/14 [==============================] - 0s 2ms/step - loss: 0.1973 - val_loss: 0.1771\b\b\b\b\b\b\b\b\b\b\b\b\b\b\b\b\b\b\b\b\b\b\b\b\b\b\b\b\b\b\b\b\b\b\b\b\b\b\b\b\n",
      "Epoch 18/9999\n",
      "14/14 [==============================] - 0s 2ms/step - loss: 0.1875 - val_loss: 0.1689\b\b\b\b\b\b\b\b\b\b\b\b\b\b\b\b\b\b\b\b\b\b\b\b\b\b\b\b\b\b\b\b\b\b\b\b\b\b\b\b\n",
      "Epoch 19/9999\n",
      "14/14 [==============================] - 0s 2ms/step - loss: 0.1764 - val_loss: 0.1591\b\b\b\b\b\b\b\b\b\b\b\b\b\b\b\b\b\b\b\b\b\b\b\b\b\b\b\b\b\b\b\b\b\b\b\b\b\b\b\b\n",
      "Epoch 20/9999\n",
      "14/14 [==============================] - 0s 2ms/step - loss: 0.1676 - val_loss: 0.1541\b\b\b\b\b\b\b\b\b\b\b\b\b\b\b\b\b\b\b\b\b\b\b\b\b\b\b\b\b\b\b\b\b\b\b\b\b\b\b\b\n",
      "Epoch 21/9999\n",
      "14/14 [==============================] - 0s 2ms/step - loss: 0.1571 - val_loss: 0.1513\b\b\b\b\b\b\b\b\b\b\b\b\b\b\b\b\b\b\b\b\b\b\b\b\b\b\b\b\b\b\b\b\b\b\b\b\b\b\b\b\n",
      "Epoch 22/9999\n",
      "14/14 [==============================] - 0s 3ms/step - loss: 0.1503 - val_loss: 0.1432\b\b\b\b\b\b\b\b\b\b\b\b\b\b\b\b\b\b\b\b\b\b\b\b\b\b\b\b\b\b\b\b\b\b\b\b\b\b\b\b\n",
      "Epoch 23/9999\n",
      "14/14 [==============================] - 0s 2ms/step - loss: 0.1418 - val_loss: 0.1400\b\b\b\b\b\b\b\b\b\b\b\b\b\b\b\b\b\b\b\b\b\b\b\b\b\b\b\b\b\b\b\b\b\b\b\b\b\b\b\b\n",
      "Epoch 24/9999\n",
      "14/14 [==============================] - 0s 2ms/step - loss: 0.1353 - val_loss: 0.1335\b\b\b\b\b\b\b\b\b\b\b\b\b\b\b\b\b\b\b\b\b\b\b\b\b\b\b\b\b\b\b\b\b\b\b\b\b\b\b\b\n",
      "Epoch 25/9999\n",
      "14/14 [==============================] - 0s 3ms/step - loss: 0.1289 - val_loss: 0.1319\b\b\b\b\b\b\b\b\b\b\b\b\b\b\b\b\b\b\b\b\b\b\b\b\b\b\b\b\b\b\b\b\b\b\b\b\b\b\b\b\n",
      "Epoch 26/9999\n",
      "14/14 [==============================] - 0s 2ms/step - loss: 0.1249 - val_loss: 0.1321\b\b\b\b\b\b\b\b\b\b\b\b\b\b\b\b\b\b\b\b\b\b\b\b\b\b\b\b\b\b\b\b\b\b\b\b\b\b\b\b\n",
      "Epoch 27/9999\n",
      "14/14 [==============================] - 0s 2ms/step - loss: 0.1201 - val_loss: 0.1259\b\b\b\b\b\b\b\b\b\b\b\b\b\b\b\b\b\b\b\b\b\b\b\b\b\b\b\b\b\b\b\b\b\b\b\b\b\b\b\b\n",
      "Epoch 28/9999\n",
      "14/14 [==============================] - 0s 2ms/step - loss: 0.1131 - val_loss: 0.1224\b\b\b\b\b\b\b\b\b\b\b\b\b\b\b\b\b\b\b\b\b\b\b\b\b\b\b\b\b\b\b\b\b\b\b\b\b\b\b\b\n",
      "Epoch 29/9999\n",
      "14/14 [==============================] - 0s 2ms/step - loss: 0.1086 - val_loss: 0.1220\b\b\b\b\b\b\b\b\b\b\b\b\b\b\b\b\b\b\b\b\b\b\b\b\b\b\b\b\b\b\b\b\b\b\b\b\b\b\b\b\n",
      "Epoch 30/9999\n",
      "14/14 [==============================] - 0s 2ms/step - loss: 0.1057 - val_loss: 0.1199\b\b\b\b\b\b\b\b\b\b\b\b\b\b\b\b\b\b\b\b\b\b\b\b\b\b\b\b\b\b\b\b\b\b\b\b\b\b\b\b\n",
      "Epoch 31/9999\n",
      "14/14 [==============================] - 0s 2ms/step - loss: 0.1011 - val_loss: 0.1169\b\b\b\b\b\b\b\b\b\b\b\b\b\b\b\b\b\b\b\b\b\b\b\b\b\b\b\b\b\b\b\b\b\b\b\b\b\b\b\b\n",
      "Epoch 32/9999\n",
      "14/14 [==============================] - 0s 2ms/step - loss: 0.0982 - val_loss: 0.1168\b\b\b\b\b\b\b\b\b\b\b\b\b\b\b\b\b\b\b\b\b\b\b\b\b\b\b\b\b\b\b\b\b\b\b\b\b\b\b\b\n",
      "Epoch 33/9999\n",
      "14/14 [==============================] - 0s 2ms/step - loss: 0.0943 - val_loss: 0.1152\b\b\b\b\b\b\b\b\b\b\b\b\b\b\b\b\b\b\b\b\b\b\b\b\b\b\b\b\b\b\b\b\b\b\b\b\b\b\b\b\n",
      "Epoch 34/9999\n",
      "14/14 [==============================] - 0s 2ms/step - loss: 0.0918 - val_loss: 0.1160\b\b\b\b\b\b\b\b\b\b\b\b\b\b\b\b\b\b\b\b\b\b\b\b\b\b\b\b\b\b\b\b\b\b\b\b\b\b\b\b\n",
      "Epoch 35/9999\n",
      "14/14 [==============================] - 0s 3ms/step - loss: 0.0905 - val_loss: 0.1108\b\b\b\b\b\b\b\b\b\b\b\b\b\b\b\b\b\b\b\b\b\b\b\b\b\b\b\b\b\b\b\b\b\b\b\b\b\b\b\b\n",
      "Epoch 36/9999\n",
      "14/14 [==============================] - 0s 2ms/step - loss: 0.0883 - val_loss: 0.1126\b\b\b\b\b\b\b\b\b\b\b\b\b\b\b\b\b\b\b\b\b\b\b\b\b\b\b\b\b\b\b\b\b\b\b\b\b\b\b\b\n",
      "Epoch 37/9999\n",
      "14/14 [==============================] - 0s 2ms/step - loss: 0.0844 - val_loss: 0.1111\b\b\b\b\b\b\b\b\b\b\b\b\b\b\b\b\b\b\b\b\b\b\b\b\b\b\b\b\b\b\b\b\b\b\b\b\b\b\b\b\n",
      "Epoch 38/9999\n",
      "14/14 [==============================] - 0s 2ms/step - loss: 0.0822 - val_loss: 0.1108\b\b\b\b\b\b\b\b\b\b\b\b\b\b\b\b\b\b\b\b\b\b\b\b\b\b\b\b\b\b\b\b\b\b\b\b\b\b\b\b\n",
      "Epoch 39/9999\n",
      "14/14 [==============================] - 0s 2ms/step - loss: 0.0802 - val_loss: 0.1126\b\b\b\b\b\b\b\b\b\b\b\b\b\b\b\b\b\b\b\b\b\b\b\b\b\b\b\b\b\b\b\b\b\b\b\b\b\b\b\b\n",
      "Epoch 40/9999\n",
      "14/14 [==============================] - 0s 2ms/step - loss: 0.0810 - val_loss: 0.1138\b\b\b\b\b\b\b\b\b\b\b\b\b\b\b\b\b\b\b\b\b\b\b\b\b\b\b\b\b\b\b\b\b\b\b\b\b\b\b\b\n",
      "Epoch 41/9999\n",
      "14/14 [==============================] - 0s 2ms/step - loss: 0.0815 - val_loss: 0.1091\b\b\b\b\b\b\b\b\b\b\b\b\b\b\b\b\b\b\b\b\b\b\b\b\b\b\b\b\b\b\b\b\b\b\b\b\b\b\b\b\n",
      "Epoch 42/9999\n",
      "14/14 [==============================] - 0s 2ms/step - loss: 0.0779 - val_loss: 0.1083\b\b\b\b\b\b\b\b\b\b\b\b\b\b\b\b\b\b\b\b\b\b\b\b\b\b\b\b\b\b\b\b\b\b\b\b\b\b\b\b\n",
      "Epoch 43/9999\n",
      "14/14 [==============================] - 0s 2ms/step - loss: 0.0755 - val_loss: 0.1082\b\b\b\b\b\b\b\b\b\b\b\b\b\b\b\b\b\b\b\b\b\b\b\b\b\b\b\b\b\b\b\b\b\b\b\b\b\b\b\b\n",
      "Epoch 44/9999\n",
      "14/14 [==============================] - 0s 3ms/step - loss: 0.0745 - val_loss: 0.1080\b\b\b\b\b\b\b\b\b\b\b\b\b\b\b\b\b\b\b\b\b\b\b\b\b\b\b\b\b\b\b\b\b\b\b\b\b\b\b\b\n",
      "Epoch 45/9999\n",
      "14/14 [==============================] - 0s 2ms/step - loss: 0.0716 - val_loss: 0.1089\b\b\b\b\b\b\b\b\b\b\b\b\b\b\b\b\b\b\b\b\b\b\b\b\b\b\b\b\b\b\b\b\b\b\b\b\b\b\b\b\n",
      "Epoch 46/9999\n",
      "14/14 [==============================] - 0s 2ms/step - loss: 0.0713 - val_loss: 0.1076\b\b\b\b\b\b\b\b\b\b\b\b\b\b\b\b\b\b\b\b\b\b\b\b\b\b\b\b\b\b\b\b\b\b\b\b\b\b\b\b\n",
      "Epoch 47/9999\n",
      "14/14 [==============================] - 0s 2ms/step - loss: 0.0716 - val_loss: 0.1097\b\b\b\b\b\b\b\b\b\b\b\b\b\b\b\b\b\b\b\b\b\b\b\b\b\b\b\b\b\b\b\b\b\b\b\b\b\b\b\b\n",
      "Epoch 48/9999\n",
      "14/14 [==============================] - 0s 3ms/step - loss: 0.0695 - val_loss: 0.1087\b\b\b\b\b\b\b\b\b\b\b\b\b\b\b\b\b\b\b\b\b\b\b\b\b\b\b\b\b\b\b\b\b\b\b\b\b\b\b\b\n",
      "Epoch 49/9999\n",
      "14/14 [==============================] - 0s 2ms/step - loss: 0.0675 - val_loss: 0.1063\b\b\b\b\b\b\b\b\b\b\b\b\b\b\b\b\b\b\b\b\b\b\b\b\b\b\b\b\b\b\b\b\b\b\b\b\b\b\b\b\n",
      "Epoch 50/9999\n",
      "14/14 [==============================] - 0s 2ms/step - loss: 0.0663 - val_loss: 0.1092\b\b\b\b\b\b\b\b\b\b\b\b\b\b\b\b\b\b\b\b\b\b\b\b\b\b\b\b\b\b\b\b\b\b\b\b\b\b\b\b\n",
      "Epoch 51/9999\n",
      "14/14 [==============================] - 0s 2ms/step - loss: 0.0650 - val_loss: 0.1068\b\b\b\b\b\b\b\b\b\b\b\b\b\b\b\b\b\b\b\b\b\b\b\b\b\b\b\b\b\b\b\b\b\b\b\b\b\b\b\b\n",
      "Epoch 52/9999\n",
      "14/14 [==============================] - 0s 2ms/step - loss: 0.0649 - val_loss: 0.1075\b\b\b\b\b\b\b\b\b\b\b\b\b\b\b\b\b\b\b\b\b\b\b\b\b\b\b\b\b\b\b\b\b\b\b\b\b\b\b\b\n",
      "Epoch 53/9999\n",
      "14/14 [==============================] - 0s 3ms/step - loss: 0.0639 - val_loss: 0.1069\b\b\b\b\b\b\b\b\b\b\b\b\b\b\b\b\b\b\b\b\b\b\b\b\b\b\b\b\b\b\b\b\b\b\b\b\b\b\b\b\n",
      "Epoch 54/9999\n",
      "14/14 [==============================] - 0s 2ms/step - loss: 0.0632 - val_loss: 0.1103\b\b\b\b\b\b\b\b\b\b\b\b\b\b\b\b\b\b\b\b\b\b\b\b\b\b\b\b\b\b\b\b\b\b\b\b\b\b\b\b\n",
      "Epoch 55/9999\n",
      "14/14 [==============================] - 0s 2ms/step - loss: 0.0631 - val_loss: 0.1091\b\b\b\b\b\b\b\b\b\b\b\b\b\b\b\b\b\b\b\b\b\b\b\b\b\b\b\b\b\b\b\b\b\b\b\b\b\b\b\b\n",
      "Epoch 56/9999\n",
      "14/14 [==============================] - 0s 2ms/step - loss: 0.0658 - val_loss: 0.1032\b\b\b\b\b\b\b\b\b\b\b\b\b\b\b\b\b\b\b\b\b\b\b\b\b\b\b\b\b\b\b\b\b\b\b\b\b\b\b\b\n",
      "Epoch 57/9999\n",
      "14/14 [==============================] - 0s 2ms/step - loss: 0.0636 - val_loss: 0.1078\b\b\b\b\b\b\b\b\b\b\b\b\b\b\b\b\b\b\b\b\b\b\b\b\b\b\b\b\b\b\b\b\b\b\b\b\b\b\b\b\n",
      "Epoch 58/9999\n",
      "14/14 [==============================] - 0s 2ms/step - loss: 0.0612 - val_loss: 0.1119\b\b\b\b\b\b\b\b\b\b\b\b\b\b\b\b\b\b\b\b\b\b\b\b\b\b\b\b\b\b\b\b\b\b\b\b\b\b\b\b\n",
      "Epoch 59/9999\n",
      "14/14 [==============================] - 0s 2ms/step - loss: 0.0617 - val_loss: 0.1123\b\b\b\b\b\b\b\b\b\b\b\b\b\b\b\b\b\b\b\b\b\b\b\b\b\b\b\b\b\b\b\b\b\b\b\b\b\b\b\b\n",
      "Epoch 60/9999\n",
      "14/14 [==============================] - 0s 2ms/step - loss: 0.0602 - val_loss: 0.1060\b\b\b\b\b\b\b\b\b\b\b\b\b\b\b\b\b\b\b\b\b\b\b\b\b\b\b\b\b\b\b\b\b\b\b\b\b\b\b\b\n",
      "Epoch 61/9999\n",
      "14/14 [==============================] - 0s 2ms/step - loss: 0.0594 - val_loss: 0.1089\b\b\b\b\b\b\b\b\b\b\b\b\b\b\b\b\b\b\b\b\b\b\b\b\b\b\b\b\b\b\b\b\b\b\b\b\b\b\b\b\n",
      "Epoch 62/9999\n",
      "14/14 [==============================] - 0s 2ms/step - loss: 0.0604 - val_loss: 0.1128\b\b\b\b\b\b\b\b\b\b\b\b\b\b\b\b\b\b\b\b\b\b\b\b\b\b\b\b\b\b\b\b\b\b\b\b\b\b\b\b\n",
      "Epoch 63/9999\n",
      "14/14 [==============================] - 0s 3ms/step - loss: 0.0595 - val_loss: 0.1065\b\b\b\b\b\b\b\b\b\b\b\b\b\b\b\b\b\b\b\b\b\b\b\b\b\b\b\b\b\b\b\b\b\b\b\b\b\b\b\b\n",
      "Epoch 64/9999\n",
      "14/14 [==============================] - 0s 2ms/step - loss: 0.0589 - val_loss: 0.1106\b\b\b\b\b\b\b\b\b\b\b\b\b\b\b\b\b\b\b\b\b\b\b\b\b\b\b\b\b\b\b\b\b\b\b\b\b\b\b\b\n",
      "Epoch 65/9999\n",
      "14/14 [==============================] - 0s 2ms/step - loss: 0.0568 - val_loss: 0.1065\b\b\b\b\b\b\b\b\b\b\b\b\b\b\b\b\b\b\b\b\b\b\b\b\b\b\b\b\b\b\b\b\b\b\b\b\b\b\b\b\n",
      "Epoch 66/9999\n",
      " 1/14 [=>............................] - ETA: 0s - loss: 0.0509Restoring model weights from the end of the best epoch.\n",
      "14/14 [==============================] - 0s 3ms/step - loss: 0.0571 - val_loss: 0.1076\n",
      "Epoch 00066: early stopping\n"
     ]
    },
    {
     "data": {
      "text/plain": "<tensorflow.python.keras.callbacks.History at 0x1d344a80c48>"
     },
     "execution_count": 14,
     "metadata": {},
     "output_type": "execute_result"
    }
   ],
   "source": [
    "from tensorflow.keras.callbacks import EarlyStopping\n",
    "\n",
    "stop = EarlyStopping(monitor='val_loss', patience=10, mode='min', verbose=1, restore_best_weights=True)\n",
    "\n",
    "model.fit(x=X_train, y=y_train, epochs=9999, validation_data=(X_test, y_test),\n",
    "          callbacks=[stop])"
   ],
   "metadata": {
    "collapsed": false,
    "pycharm": {
     "name": "#%%\n"
    }
   }
  },
  {
   "cell_type": "code",
   "execution_count": 15,
   "outputs": [
    {
     "data": {
      "text/plain": "<Figure size 432x288 with 1 Axes>",
      "image/png": "[encoded data removed]"
     },
     "metadata": {
      "needs_background": "light"
     },
     "output_type": "display_data"
    }
   ],
   "source": [
    "model_loss = pd.DataFrame(model.history.history)\n",
    "model_loss.plot();"
   ],
   "metadata": {
    "collapsed": false,
    "pycharm": {
     "name": "#%%\n"
    }
   }
  },
  {
   "cell_type": "code",
   "execution_count": 16,
   "outputs": [],
   "source": [
    "model = Sequential()\n",
    "\n",
    "model.add(Dense(30, activation='relu'))\n",
    "model.add(Dropout(0.5))\n",
    "model.add(Dense(15, activation='relu'))\n",
    "model.add(Dropout(0.5))\n",
    "model.add(Dense(1, activation='sigmoid')) # Binary classification\n",
    "\n",
    "model.compile(loss='binary_crossentropy', optimizer='adam')\n"
   ],
   "metadata": {
    "collapsed": false,
    "pycharm": {
     "name": "#%%\n"
    }
   }
  },
  {
   "cell_type": "code",
   "execution_count": 17,
   "outputs": [
    {
     "name": "stdout",
     "output_type": "stream",
     "text": [
      "Epoch 1/9999\n",
      "14/14 [==============================] - 0s 5ms/step - loss: 0.6696 - val_loss: 0.6592\b\b\b\b\b\b\b\b\b\b\b\b\b\b\b\b\b\b\b\b\b\b\b\b\b\b\b\b\b\b\b\b\b\b\b\b\b\b\b\b\n",
      "Epoch 2/9999\n",
      "14/14 [==============================] - 0s 2ms/step - loss: 0.6544 - val_loss: 0.6407\b\b\b\b\b\b\b\b\b\b\b\b\b\b\b\b\b\b\b\b\b\b\b\b\b\b\b\b\b\b\b\b\b\b\b\b\b\b\b\b\n",
      "Epoch 3/9999\n",
      "14/14 [==============================] - 0s 2ms/step - loss: 0.6562 - val_loss: 0.6240\b\b\b\b\b\b\b\b\b\b\b\b\b\b\b\b\b\b\b\b\b\b\b\b\b\b\b\b\b\b\b\b\b\b\b\b\b\b\b\b\n",
      "Epoch 4/9999\n",
      "14/14 [==============================] - 0s 3ms/step - loss: 0.6230 - val_loss: 0.6065\b\b\b\b\b\b\b\b\b\b\b\b\b\b\b\b\b\b\b\b\b\b\b\b\b\b\b\b\b\b\b\b\b\b\b\b\b\b\b\b\n",
      "Epoch 5/9999\n",
      "14/14 [==============================] - 0s 2ms/step - loss: 0.5969 - val_loss: 0.5816\b\b\b\b\b\b\b\b\b\b\b\b\b\b\b\b\b\b\b\b\b\b\b\b\b\b\b\b\b\b\b\b\b\b\b\b\b\b\b\b\n",
      "Epoch 6/9999\n",
      "14/14 [==============================] - 0s 3ms/step - loss: 0.5993 - val_loss: 0.5602\b\b\b\b\b\b\b\b\b\b\b\b\b\b\b\b\b\b\b\b\b\b\b\b\b\b\b\b\b\b\b\b\b\b\b\b\b\b\b\b\n",
      "Epoch 7/9999\n",
      "14/14 [==============================] - 0s 3ms/step - loss: 0.5641 - val_loss: 0.5334\b\b\b\b\b\b\b\b\b\b\b\b\b\b\b\b\b\b\b\b\b\b\b\b\b\b\b\b\b\b\b\b\b\b\b\b\b\b\b\b\n",
      "Epoch 8/9999\n",
      "14/14 [==============================] - 0s 2ms/step - loss: 0.5588 - val_loss: 0.5092\b\b\b\b\b\b\b\b\b\b\b\b\b\b\b\b\b\b\b\b\b\b\b\b\b\b\b\b\b\b\b\b\b\b\b\b\b\b\b\b\n",
      "Epoch 9/9999\n",
      "14/14 [==============================] - 0s 3ms/step - loss: 0.5447 - val_loss: 0.4813\b\b\b\b\b\b\b\b\b\b\b\b\b\b\b\b\b\b\b\b\b\b\b\b\b\b\b\b\b\b\b\b\b\b\b\b\b\b\b\b\n",
      "Epoch 10/9999\n",
      "14/14 [==============================] - 0s 2ms/step - loss: 0.5187 - val_loss: 0.4523\b\b\b\b\b\b\b\b\b\b\b\b\b\b\b\b\b\b\b\b\b\b\b\b\b\b\b\b\b\b\b\b\b\b\b\b\b\b\b\b\n",
      "Epoch 11/9999\n",
      "14/14 [==============================] - 0s 2ms/step - loss: 0.5010 - val_loss: 0.4186\b\b\b\b\b\b\b\b\b\b\b\b\b\b\b\b\b\b\b\b\b\b\b\b\b\b\b\b\b\b\b\b\b\b\b\b\b\b\b\b\n",
      "Epoch 12/9999\n",
      "14/14 [==============================] - 0s 2ms/step - loss: 0.4628 - val_loss: 0.3927\b\b\b\b\b\b\b\b\b\b\b\b\b\b\b\b\b\b\b\b\b\b\b\b\b\b\b\b\b\b\b\b\b\b\b\b\b\b\b\b\n",
      "Epoch 13/9999\n",
      "14/14 [==============================] - 0s 2ms/step - loss: 0.4456 - val_loss: 0.3583\b\b\b\b\b\b\b\b\b\b\b\b\b\b\b\b\b\b\b\b\b\b\b\b\b\b\b\b\b\b\b\b\b\b\b\b\b\b\b\b\n",
      "Epoch 14/9999\n",
      "14/14 [==============================] - 0s 2ms/step - loss: 0.4265 - val_loss: 0.3333\b\b\b\b\b\b\b\b\b\b\b\b\b\b\b\b\b\b\b\b\b\b\b\b\b\b\b\b\b\b\b\b\b\b\b\b\b\b\b\b\n",
      "Epoch 15/9999\n",
      "14/14 [==============================] - 0s 2ms/step - loss: 0.4082 - val_loss: 0.3235\b\b\b\b\b\b\b\b\b\b\b\b\b\b\b\b\b\b\b\b\b\b\b\b\b\b\b\b\b\b\b\b\b\b\b\b\b\b\b\b\n",
      "Epoch 16/9999\n",
      "14/14 [==============================] - 0s 2ms/step - loss: 0.4092 - val_loss: 0.2979\b\b\b\b\b\b\b\b\b\b\b\b\b\b\b\b\b\b\b\b\b\b\b\b\b\b\b\b\b\b\b\b\b\b\b\b\b\b\b\b\n",
      "Epoch 17/9999\n",
      "14/14 [==============================] - 0s 2ms/step - loss: 0.3716 - val_loss: 0.2802\b\b\b\b\b\b\b\b\b\b\b\b\b\b\b\b\b\b\b\b\b\b\b\b\b\b\b\b\b\b\b\b\b\b\b\b\b\b\b\b\n",
      "Epoch 18/9999\n",
      "14/14 [==============================] - 0s 2ms/step - loss: 0.3498 - val_loss: 0.2624\b\b\b\b\b\b\b\b\b\b\b\b\b\b\b\b\b\b\b\b\b\b\b\b\b\b\b\b\b\b\b\b\b\b\b\b\b\b\b\b\n",
      "Epoch 19/9999\n",
      "14/14 [==============================] - 0s 3ms/step - loss: 0.3545 - val_loss: 0.2468\b\b\b\b\b\b\b\b\b\b\b\b\b\b\b\b\b\b\b\b\b\b\b\b\b\b\b\b\b\b\b\b\b\b\b\b\b\b\b\b\n",
      "Epoch 20/9999\n",
      "14/14 [==============================] - 0s 2ms/step - loss: 0.3596 - val_loss: 0.2354\b\b\b\b\b\b\b\b\b\b\b\b\b\b\b\b\b\b\b\b\b\b\b\b\b\b\b\b\b\b\b\b\b\b\b\b\b\b\b\b\n",
      "Epoch 21/9999\n",
      "14/14 [==============================] - 0s 3ms/step - loss: 0.3126 - val_loss: 0.2278\b\b\b\b\b\b\b\b\b\b\b\b\b\b\b\b\b\b\b\b\b\b\b\b\b\b\b\b\b\b\b\b\b\b\b\b\b\b\b\b\n",
      "Epoch 22/9999\n",
      "14/14 [==============================] - 0s 2ms/step - loss: 0.3323 - val_loss: 0.2227\b\b\b\b\b\b\b\b\b\b\b\b\b\b\b\b\b\b\b\b\b\b\b\b\b\b\b\b\b\b\b\b\b\b\b\b\b\b\b\b\n",
      "Epoch 23/9999\n",
      "14/14 [==============================] - 0s 2ms/step - loss: 0.3135 - val_loss: 0.2148\b\b\b\b\b\b\b\b\b\b\b\b\b\b\b\b\b\b\b\b\b\b\b\b\b\b\b\b\b\b\b\b\b\b\b\b\b\b\b\b\n",
      "Epoch 24/9999\n",
      "14/14 [==============================] - 0s 2ms/step - loss: 0.2835 - val_loss: 0.2008\b\b\b\b\b\b\b\b\b\b\b\b\b\b\b\b\b\b\b\b\b\b\b\b\b\b\b\b\b\b\b\b\b\b\b\b\b\b\b\b\n",
      "Epoch 25/9999\n",
      "14/14 [==============================] - 0s 2ms/step - loss: 0.3068 - val_loss: 0.1982\b\b\b\b\b\b\b\b\b\b\b\b\b\b\b\b\b\b\b\b\b\b\b\b\b\b\b\b\b\b\b\b\b\b\b\b\b\b\b\b\n",
      "Epoch 26/9999\n",
      "14/14 [==============================] - 0s 3ms/step - loss: 0.2558 - val_loss: 0.1888\b\b\b\b\b\b\b\b\b\b\b\b\b\b\b\b\b\b\b\b\b\b\b\b\b\b\b\b\b\b\b\b\b\b\b\b\b\b\b\b\n",
      "Epoch 27/9999\n",
      "14/14 [==============================] - 0s 3ms/step - loss: 0.2837 - val_loss: 0.1827\b\b\b\b\b\b\b\b\b\b\b\b\b\b\b\b\b\b\b\b\b\b\b\b\b\b\b\b\b\b\b\b\b\b\b\b\b\b\b\b\n",
      "Epoch 28/9999\n",
      "14/14 [==============================] - 0s 3ms/step - loss: 0.2469 - val_loss: 0.1725\b\b\b\b\b\b\b\b\b\b\b\b\b\b\b\b\b\b\b\b\b\b\b\b\b\b\b\b\b\b\b\b\b\b\b\b\b\b\b\b\n",
      "Epoch 29/9999\n",
      "14/14 [==============================] - 0s 2ms/step - loss: 0.2593 - val_loss: 0.1742\b\b\b\b\b\b\b\b\b\b\b\b\b\b\b\b\b\b\b\b\b\b\b\b\b\b\b\b\b\b\b\b\b\b\b\b\b\b\b\b\n",
      "Epoch 30/9999\n",
      "14/14 [==============================] - 0s 2ms/step - loss: 0.2826 - val_loss: 0.1767\b\b\b\b\b\b\b\b\b\b\b\b\b\b\b\b\b\b\b\b\b\b\b\b\b\b\b\b\b\b\b\b\b\b\b\b\b\b\b\b\n",
      "Epoch 31/9999\n",
      "14/14 [==============================] - 0s 2ms/step - loss: 0.2369 - val_loss: 0.1742\b\b\b\b\b\b\b\b\b\b\b\b\b\b\b\b\b\b\b\b\b\b\b\b\b\b\b\b\b\b\b\b\b\b\b\b\b\b\b\b\n",
      "Epoch 32/9999\n",
      "14/14 [==============================] - 0s 2ms/step - loss: 0.2644 - val_loss: 0.1631\b\b\b\b\b\b\b\b\b\b\b\b\b\b\b\b\b\b\b\b\b\b\b\b\b\b\b\b\b\b\b\b\b\b\b\b\b\b\b\b\n",
      "Epoch 33/9999\n",
      "14/14 [==============================] - 0s 2ms/step - loss: 0.2147 - val_loss: 0.1570\b\b\b\b\b\b\b\b\b\b\b\b\b\b\b\b\b\b\b\b\b\b\b\b\b\b\b\b\b\b\b\b\b\b\b\b\b\b\b\b\n",
      "Epoch 34/9999\n",
      "14/14 [==============================] - 0s 3ms/step - loss: 0.2366 - val_loss: 0.1462\b\b\b\b\b\b\b\b\b\b\b\b\b\b\b\b\b\b\b\b\b\b\b\b\b\b\b\b\b\b\b\b\b\b\b\b\b\b\b\b\n",
      "Epoch 35/9999\n",
      "14/14 [==============================] - 0s 3ms/step - loss: 0.2293 - val_loss: 0.1473\b\b\b\b\b\b\b\b\b\b\b\b\b\b\b\b\b\b\b\b\b\b\b\b\b\b\b\b\b\b\b\b\b\b\b\b\b\b\b\b\n",
      "Epoch 36/9999\n",
      "14/14 [==============================] - 0s 2ms/step - loss: 0.2452 - val_loss: 0.1489\b\b\b\b\b\b\b\b\b\b\b\b\b\b\b\b\b\b\b\b\b\b\b\b\b\b\b\b\b\b\b\b\b\b\b\b\b\b\b\b\n",
      "Epoch 37/9999\n",
      "14/14 [==============================] - 0s 3ms/step - loss: 0.2228 - val_loss: 0.1446\b\b\b\b\b\b\b\b\b\b\b\b\b\b\b\b\b\b\b\b\b\b\b\b\b\b\b\b\b\b\b\b\b\b\b\b\b\b\b\b\n",
      "Epoch 38/9999\n",
      "14/14 [==============================] - 0s 2ms/step - loss: 0.2232 - val_loss: 0.1384\b\b\b\b\b\b\b\b\b\b\b\b\b\b\b\b\b\b\b\b\b\b\b\b\b\b\b\b\b\b\b\b\b\b\b\b\b\b\b\b\n",
      "Epoch 39/9999\n",
      "14/14 [==============================] - 0s 3ms/step - loss: 0.1942 - val_loss: 0.1341\b\b\b\b\b\b\b\b\b\b\b\b\b\b\b\b\b\b\b\b\b\b\b\b\b\b\b\b\b\b\b\b\b\b\b\b\b\b\b\b\n",
      "Epoch 40/9999\n",
      "14/14 [==============================] - 0s 2ms/step - loss: 0.1931 - val_loss: 0.1360\b\b\b\b\b\b\b\b\b\b\b\b\b\b\b\b\b\b\b\b\b\b\b\b\b\b\b\b\b\b\b\b\b\b\b\b\b\b\b\b\n",
      "Epoch 41/9999\n",
      "14/14 [==============================] - 0s 2ms/step - loss: 0.2129 - val_loss: 0.1334\b\b\b\b\b\b\b\b\b\b\b\b\b\b\b\b\b\b\b\b\b\b\b\b\b\b\b\b\b\b\b\b\b\b\b\b\b\b\b\b\n",
      "Epoch 42/9999\n",
      "14/14 [==============================] - 0s 3ms/step - loss: 0.1918 - val_loss: 0.1298\b\b\b\b\b\b\b\b\b\b\b\b\b\b\b\b\b\b\b\b\b\b\b\b\b\b\b\b\b\b\b\b\b\b\b\b\b\b\b\b\n",
      "Epoch 43/9999\n",
      "14/14 [==============================] - 0s 3ms/step - loss: 0.1591 - val_loss: 0.1230\b\b\b\b\b\b\b\b\b\b\b\b\b\b\b\b\b\b\b\b\b\b\b\b\b\b\b\b\b\b\b\b\b\b\b\b\b\b\b\b\n",
      "Epoch 44/9999\n",
      "14/14 [==============================] - 0s 2ms/step - loss: 0.1873 - val_loss: 0.1282\b\b\b\b\b\b\b\b\b\b\b\b\b\b\b\b\b\b\b\b\b\b\b\b\b\b\b\b\b\b\b\b\b\b\b\b\b\b\b\b\n",
      "Epoch 45/9999\n",
      "14/14 [==============================] - 0s 2ms/step - loss: 0.1896 - val_loss: 0.1220\b\b\b\b\b\b\b\b\b\b\b\b\b\b\b\b\b\b\b\b\b\b\b\b\b\b\b\b\b\b\b\b\b\b\b\b\b\b\b\b\n",
      "Epoch 46/9999\n",
      "14/14 [==============================] - 0s 2ms/step - loss: 0.1584 - val_loss: 0.1238\b\b\b\b\b\b\b\b\b\b\b\b\b\b\b\b\b\b\b\b\b\b\b\b\b\b\b\b\b\b\b\b\b\b\b\b\b\b\b\b\n",
      "Epoch 47/9999\n",
      "14/14 [==============================] - 0s 3ms/step - loss: 0.1739 - val_loss: 0.1259\b\b\b\b\b\b\b\b\b\b\b\b\b\b\b\b\b\b\b\b\b\b\b\b\b\b\b\b\b\b\b\b\b\b\b\b\b\b\b\b\n",
      "Epoch 48/9999\n",
      "14/14 [==============================] - 0s 2ms/step - loss: 0.1898 - val_loss: 0.1215\b\b\b\b\b\b\b\b\b\b\b\b\b\b\b\b\b\b\b\b\b\b\b\b\b\b\b\b\b\b\b\b\b\b\b\b\b\b\b\b\n",
      "Epoch 49/9999\n",
      "14/14 [==============================] - 0s 2ms/step - loss: 0.1562 - val_loss: 0.1279\b\b\b\b\b\b\b\b\b\b\b\b\b\b\b\b\b\b\b\b\b\b\b\b\b\b\b\b\b\b\b\b\b\b\b\b\b\b\b\b\n",
      "Epoch 50/9999\n",
      "14/14 [==============================] - 0s 2ms/step - loss: 0.1695 - val_loss: 0.1308\b\b\b\b\b\b\b\b\b\b\b\b\b\b\b\b\b\b\b\b\b\b\b\b\b\b\b\b\b\b\b\b\b\b\b\b\b\b\b\b\n",
      "Epoch 51/9999\n",
      "14/14 [==============================] - 0s 2ms/step - loss: 0.1678 - val_loss: 0.1231\b\b\b\b\b\b\b\b\b\b\b\b\b\b\b\b\b\b\b\b\b\b\b\b\b\b\b\b\b\b\b\b\b\b\b\b\b\b\b\b\n",
      "Epoch 52/9999\n",
      "14/14 [==============================] - 0s 3ms/step - loss: 0.1546 - val_loss: 0.1191\b\b\b\b\b\b\b\b\b\b\b\b\b\b\b\b\b\b\b\b\b\b\b\b\b\b\b\b\b\b\b\b\b\b\b\b\b\b\b\b\n",
      "Epoch 53/9999\n",
      "14/14 [==============================] - 0s 2ms/step - loss: 0.1600 - val_loss: 0.1214\b\b\b\b\b\b\b\b\b\b\b\b\b\b\b\b\b\b\b\b\b\b\b\b\b\b\b\b\b\b\b\b\b\b\b\b\b\b\b\b\n",
      "Epoch 54/9999\n",
      "14/14 [==============================] - 0s 3ms/step - loss: 0.1369 - val_loss: 0.1137\b\b\b\b\b\b\b\b\b\b\b\b\b\b\b\b\b\b\b\b\b\b\b\b\b\b\b\b\b\b\b\b\b\b\b\b\b\b\b\b\n",
      "Epoch 55/9999\n",
      "14/14 [==============================] - ETA: 0s - loss: 0.1391\b\b\b\b\b\b\b\b\b\b\b\b\b\b\b\b\b\b\b\b\b\b\b\b\b\b\b\b\b\b\b\b\b\b\b\b\b\b\b\b\b\b\b\b\b\b\b\b\b\b\b\b\b\b\b\b\b\b\b\b\b\b\b - 0s 2ms/step - loss: 0.1578 - val_loss: 0.1146\n",
      "Epoch 56/9999\n",
      "14/14 [==============================] - 0s 3ms/step - loss: 0.1562 - val_loss: 0.1176\b\b\b\b\b\b\b\b\b\b\b\b\b\b\b\b\b\b\b\b\b\b\b\b\b\b\b\b\b\b\b\b\b\b\b\b\b\b\b\b\n",
      "Epoch 57/9999\n",
      "14/14 [==============================] - 0s 2ms/step - loss: 0.1590 - val_loss: 0.1108\b\b\b\b\b\b\b\b\b\b\b\b\b\b\b\b\b\b\b\b\b\b\b\b\b\b\b\b\b\b\b\b\b\b\b\b\b\b\b\b\n",
      "Epoch 58/9999\n",
      "14/14 [==============================] - 0s 3ms/step - loss: 0.1508 - val_loss: 0.1083\b\b\b\b\b\b\b\b\b\b\b\b\b\b\b\b\b\b\b\b\b\b\b\b\b\b\b\b\b\b\b\b\b\b\b\b\b\b\b\b\n",
      "Epoch 59/9999\n",
      "14/14 [==============================] - 0s 2ms/step - loss: 0.1390 - val_loss: 0.1188\b\b\b\b\b\b\b\b\b\b\b\b\b\b\b\b\b\b\b\b\b\b\b\b\b\b\b\b\b\b\b\b\b\b\b\b\b\b\b\b\n",
      "Epoch 60/9999\n",
      "14/14 [==============================] - 0s 2ms/step - loss: 0.1424 - val_loss: 0.1058\b\b\b\b\b\b\b\b\b\b\b\b\b\b\b\b\b\b\b\b\b\b\b\b\b\b\b\b\b\b\b\b\b\b\b\b\b\b\b\b\n",
      "Epoch 61/9999\n",
      "14/14 [==============================] - 0s 2ms/step - loss: 0.1288 - val_loss: 0.1121\b\b\b\b\b\b\b\b\b\b\b\b\b\b\b\b\b\b\b\b\b\b\b\b\b\b\b\b\b\b\b\b\b\b\b\b\b\b\b\b\n",
      "Epoch 62/9999\n",
      "14/14 [==============================] - 0s 2ms/step - loss: 0.1555 - val_loss: 0.1123\b\b\b\b\b\b\b\b\b\b\b\b\b\b\b\b\b\b\b\b\b\b\b\b\b\b\b\b\b\b\b\b\b\b\b\b\b\b\b\b\n",
      "Epoch 63/9999\n",
      "14/14 [==============================] - 0s 2ms/step - loss: 0.1382 - val_loss: 0.1091\b\b\b\b\b\b\b\b\b\b\b\b\b\b\b\b\b\b\b\b\b\b\b\b\b\b\b\b\b\b\b\b\b\b\b\b\b\b\b\b\n",
      "Epoch 64/9999\n",
      "14/14 [==============================] - 0s 2ms/step - loss: 0.1192 - val_loss: 0.1071\b\b\b\b\b\b\b\b\b\b\b\b\b\b\b\b\b\b\b\b\b\b\b\b\b\b\b\b\b\b\b\b\b\b\b\b\b\b\b\b\n",
      "Epoch 65/9999\n",
      "14/14 [==============================] - 0s 2ms/step - loss: 0.1410 - val_loss: 0.1136\b\b\b\b\b\b\b\b\b\b\b\b\b\b\b\b\b\b\b\b\b\b\b\b\b\b\b\b\b\b\b\b\b\b\b\b\b\b\b\b\n",
      "Epoch 66/9999\n",
      "14/14 [==============================] - 0s 3ms/step - loss: 0.1344 - val_loss: 0.1261\b\b\b\b\b\b\b\b\b\b\b\b\b\b\b\b\b\b\b\b\b\b\b\b\b\b\b\b\b\b\b\b\b\b\b\b\b\b\b\b\n",
      "Epoch 67/9999\n",
      "14/14 [==============================] - 0s 2ms/step - loss: 0.1379 - val_loss: 0.1073\b\b\b\b\b\b\b\b\b\b\b\b\b\b\b\b\b\b\b\b\b\b\b\b\b\b\b\b\b\b\b\b\b\b\b\b\b\b\b\b\n",
      "Epoch 68/9999\n",
      "14/14 [==============================] - 0s 2ms/step - loss: 0.1453 - val_loss: 0.0992\b\b\b\b\b\b\b\b\b\b\b\b\b\b\b\b\b\b\b\b\b\b\b\b\b\b\b\b\b\b\b\b\b\b\b\b\b\b\b\b\n",
      "Epoch 69/9999\n",
      "14/14 [==============================] - 0s 2ms/step - loss: 0.1251 - val_loss: 0.1029\b\b\b\b\b\b\b\b\b\b\b\b\b\b\b\b\b\b\b\b\b\b\b\b\b\b\b\b\b\b\b\b\b\b\b\b\b\b\b\b\n",
      "Epoch 70/9999\n",
      "14/14 [==============================] - 0s 2ms/step - loss: 0.1200 - val_loss: 0.1221\b\b\b\b\b\b\b\b\b\b\b\b\b\b\b\b\b\b\b\b\b\b\b\b\b\b\b\b\b\b\b\b\b\b\b\b\b\b\b\b\n",
      "Epoch 71/9999\n",
      "14/14 [==============================] - 0s 2ms/step - loss: 0.1095 - val_loss: 0.1049\b\b\b\b\b\b\b\b\b\b\b\b\b\b\b\b\b\b\b\b\b\b\b\b\b\b\b\b\b\b\b\b\b\b\b\b\b\b\b\b\n",
      "Epoch 72/9999\n",
      "14/14 [==============================] - 0s 2ms/step - loss: 0.1183 - val_loss: 0.1057\b\b\b\b\b\b\b\b\b\b\b\b\b\b\b\b\b\b\b\b\b\b\b\b\b\b\b\b\b\b\b\b\b\b\b\b\b\b\b\b\n",
      "Epoch 73/9999\n",
      "14/14 [==============================] - 0s 2ms/step - loss: 0.1279 - val_loss: 0.1064\b\b\b\b\b\b\b\b\b\b\b\b\b\b\b\b\b\b\b\b\b\b\b\b\b\b\b\b\b\b\b\b\b\b\b\b\b\b\b\b\n",
      "Epoch 74/9999\n",
      "14/14 [==============================] - 0s 3ms/step - loss: 0.1188 - val_loss: 0.0984\b\b\b\b\b\b\b\b\b\b\b\b\b\b\b\b\b\b\b\b\b\b\b\b\b\b\b\b\b\b\b\b\b\b\b\b\b\b\b\b\n",
      "Epoch 75/9999\n",
      "14/14 [==============================] - 0s 3ms/step - loss: 0.1149 - val_loss: 0.1078\b\b\b\b\b\b\b\b\b\b\b\b\b\b\b\b\b\b\b\b\b\b\b\b\b\b\b\b\b\b\b\b\b\b\b\b\b\b\b\b\n",
      "Epoch 76/9999\n",
      "14/14 [==============================] - 0s 2ms/step - loss: 0.1248 - val_loss: 0.1003\b\b\b\b\b\b\b\b\b\b\b\b\b\b\b\b\b\b\b\b\b\b\b\b\b\b\b\b\b\b\b\b\b\b\b\b\b\b\b\b\n",
      "Epoch 77/9999\n",
      "14/14 [==============================] - 0s 2ms/step - loss: 0.1282 - val_loss: 0.1035\b\b\b\b\b\b\b\b\b\b\b\b\b\b\b\b\b\b\b\b\b\b\b\b\b\b\b\b\b\b\b\b\b\b\b\b\b\b\b\b\n",
      "Epoch 78/9999\n",
      "14/14 [==============================] - 0s 2ms/step - loss: 0.1222 - val_loss: 0.1112\b\b\b\b\b\b\b\b\b\b\b\b\b\b\b\b\b\b\b\b\b\b\b\b\b\b\b\b\b\b\b\b\b\b\b\b\b\b\b\b\n",
      "Epoch 79/9999\n",
      "14/14 [==============================] - 0s 2ms/step - loss: 0.1129 - val_loss: 0.0989\b\b\b\b\b\b\b\b\b\b\b\b\b\b\b\b\b\b\b\b\b\b\b\b\b\b\b\b\b\b\b\b\b\b\b\b\b\b\b\b\n",
      "Epoch 80/9999\n",
      "14/14 [==============================] - 0s 2ms/step - loss: 0.1079 - val_loss: 0.1001\b\b\b\b\b\b\b\b\b\b\b\b\b\b\b\b\b\b\b\b\b\b\b\b\b\b\b\b\b\b\b\b\b\b\b\b\b\b\b\b\n",
      "Epoch 81/9999\n",
      "14/14 [==============================] - 0s 3ms/step - loss: 0.1173 - val_loss: 0.1245\b\b\b\b\b\b\b\b\b\b\b\b\b\b\b\b\b\b\b\b\b\b\b\b\b\b\b\b\b\b\b\b\b\b\b\b\b\b\b\b\n",
      "Epoch 82/9999\n",
      "14/14 [==============================] - 0s 2ms/step - loss: 0.1265 - val_loss: 0.1063\b\b\b\b\b\b\b\b\b\b\b\b\b\b\b\b\b\b\b\b\b\b\b\b\b\b\b\b\b\b\b\b\b\b\b\b\b\b\b\b\n",
      "Epoch 83/9999\n",
      "14/14 [==============================] - 0s 3ms/step - loss: 0.1164 - val_loss: 0.0952\b\b\b\b\b\b\b\b\b\b\b\b\b\b\b\b\b\b\b\b\b\b\b\b\b\b\b\b\b\b\b\b\b\b\b\b\b\b\b\b\n",
      "Epoch 84/9999\n",
      "14/14 [==============================] - 0s 3ms/step - loss: 0.1111 - val_loss: 0.1191\b\b\b\b\b\b\b\b\b\b\b\b\b\b\b\b\b\b\b\b\b\b\b\b\b\b\b\b\b\b\b\b\b\b\b\b\b\b\b\b\n",
      "Epoch 85/9999\n",
      "14/14 [==============================] - 0s 2ms/step - loss: 0.1137 - val_loss: 0.1138\b\b\b\b\b\b\b\b\b\b\b\b\b\b\b\b\b\b\b\b\b\b\b\b\b\b\b\b\b\b\b\b\b\b\b\b\b\b\b\b\n",
      "Epoch 86/9999\n",
      "14/14 [==============================] - 0s 3ms/step - loss: 0.1104 - val_loss: 0.0940\b\b\b\b\b\b\b\b\b\b\b\b\b\b\b\b\b\b\b\b\b\b\b\b\b\b\b\b\b\b\b\b\b\b\b\b\b\b\b\b\n",
      "Epoch 87/9999\n",
      "14/14 [==============================] - 0s 3ms/step - loss: 0.1034 - val_loss: 0.1056\b\b\b\b\b\b\b\b\b\b\b\b\b\b\b\b\b\b\b\b\b\b\b\b\b\b\b\b\b\b\b\b\b\b\b\b\b\b\b\b\n",
      "Epoch 88/9999\n",
      "14/14 [==============================] - 0s 3ms/step - loss: 0.1188 - val_loss: 0.1097\b\b\b\b\b\b\b\b\b\b\b\b\b\b\b\b\b\b\b\b\b\b\b\b\b\b\b\b\b\b\b\b\b\b\b\b\b\b\b\b\n",
      "Epoch 89/9999\n",
      "14/14 [==============================] - 0s 3ms/step - loss: 0.0896 - val_loss: 0.1087\b\b\b\b\b\b\b\b\b\b\b\b\b\b\b\b\b\b\b\b\b\b\b\b\b\b\b\b\b\b\b\b\b\b\b\b\b\b\b\b\n",
      "Epoch 90/9999\n",
      "14/14 [==============================] - 0s 3ms/step - loss: 0.1332 - val_loss: 0.0944\b\b\b\b\b\b\b\b\b\b\b\b\b\b\b\b\b\b\b\b\b\b\b\b\b\b\b\b\b\b\b\b\b\b\b\b\b\b\b\b\n",
      "Epoch 91/9999\n",
      "14/14 [==============================] - 0s 2ms/step - loss: 0.1181 - val_loss: 0.0979\b\b\b\b\b\b\b\b\b\b\b\b\b\b\b\b\b\b\b\b\b\b\b\b\b\b\b\b\b\b\b\b\b\b\b\b\b\b\b\b\n",
      "Epoch 92/9999\n",
      "14/14 [==============================] - 0s 2ms/step - loss: 0.1099 - val_loss: 0.1087\b\b\b\b\b\b\b\b\b\b\b\b\b\b\b\b\b\b\b\b\b\b\b\b\b\b\b\b\b\b\b\b\b\b\b\b\b\b\b\b\n",
      "Epoch 93/9999\n",
      "14/14 [==============================] - 0s 3ms/step - loss: 0.1200 - val_loss: 0.0942\b\b\b\b\b\b\b\b\b\b\b\b\b\b\b\b\b\b\b\b\b\b\b\b\b\b\b\b\b\b\b\b\b\b\b\b\b\b\b\b\n",
      "Epoch 94/9999\n",
      "14/14 [==============================] - 0s 3ms/step - loss: 0.1387 - val_loss: 0.1040\b\b\b\b\b\b\b\b\b\b\b\b\b\b\b\b\b\b\b\b\b\b\b\b\b\b\b\b\b\b\b\b\b\b\b\b\b\b\b\b\n",
      "Epoch 95/9999\n",
      "14/14 [==============================] - 0s 2ms/step - loss: 0.1250 - val_loss: 0.1136\b\b\b\b\b\b\b\b\b\b\b\b\b\b\b\b\b\b\b\b\b\b\b\b\b\b\b\b\b\b\b\b\b\b\b\b\b\b\b\b\n",
      "Epoch 96/9999\n",
      " 1/14 [=>............................] - ETA: 0s - loss: 0.0492Restoring model weights from the end of the best epoch.\n",
      "14/14 [==============================] - 0s 3ms/step - loss: 0.1147 - val_loss: 0.1049\n",
      "Epoch 00096: early stopping\n"
     ]
    },
    {
     "data": {
      "text/plain": "<tensorflow.python.keras.callbacks.History at 0x1d344cd0648>"
     },
     "execution_count": 17,
     "metadata": {},
     "output_type": "execute_result"
    }
   ],
   "source": [
    "model.fit(x=X_train, y=y_train, epochs=9999, validation_data=(X_test, y_test),\n",
    "          callbacks=[stop])"
   ],
   "metadata": {
    "collapsed": false,
    "pycharm": {
     "name": "#%%\n"
    }
   }
  },
  {
   "cell_type": "code",
   "execution_count": 18,
   "outputs": [],
   "source": [
    "model_loss = pd.DataFrame(model.history.history)"
   ],
   "metadata": {
    "collapsed": false,
    "pycharm": {
     "name": "#%%\n"
    }
   }
  },
  {
   "cell_type": "code",
   "execution_count": 19,
   "outputs": [
    {
     "data": {
      "text/plain": "<Figure size 432x288 with 1 Axes>",
      "image/png": "[encoded data removed]"
     },
     "metadata": {
      "needs_background": "light"
     },
     "output_type": "display_data"
    }
   ],
   "source": [
    "model_loss.plot();"
   ],
   "metadata": {
    "collapsed": false,
    "pycharm": {
     "name": "#%%\n"
    }
   }
  },
  {
   "cell_type": "code",
   "execution_count": 20,
   "outputs": [
    {
     "name": "stdout",
     "output_type": "stream",
     "text": [
      "WARNING:tensorflow:From <ipython-input-20-a965a6018ea8>:1: Sequential.predict_classes (from tensorflow.python.keras.engine.sequential) is deprecated and will be removed after 2021-01-01.\n",
      "Instructions for updating:\n",
      "Please use instead:* `np.argmax(model.predict(x), axis=-1)`,   if your model does multi-class classification   (e.g. if it uses a `softmax` last-layer activation).* `(model.predict(x) > 0.5).astype(\"int32\")`,   if your model does binary classification   (e.g. if it uses a `sigmoid` last-layer activation).\n"
     ]
    }
   ],
   "source": [
    "predictions = model.predict_classes(X_test)"
   ],
   "metadata": {
    "collapsed": false,
    "pycharm": {
     "name": "#%%\n"
    }
   }
  },
  {
   "cell_type": "code",
   "execution_count": 21,
   "outputs": [],
   "source": [
    "from sklearn.metrics import classification_report, confusion_matrix"
   ],
   "metadata": {
    "collapsed": false,
    "pycharm": {
     "name": "#%%\n"
    }
   }
  },
  {
   "cell_type": "code",
   "execution_count": 22,
   "outputs": [
    {
     "name": "stdout",
     "output_type": "stream",
     "text": [
      "              precision    recall  f1-score   support\n",
      "\n",
      "           0       0.96      0.96      0.96        55\n",
      "           1       0.98      0.98      0.98        88\n",
      "\n",
      "    accuracy                           0.97       143\n",
      "   macro avg       0.97      0.97      0.97       143\n",
      "weighted avg       0.97      0.97      0.97       143\n",
      "\n"
     ]
    }
   ],
   "source": [
    "print(classification_report(y_test, predictions))"
   ],
   "metadata": {
    "collapsed": false,
    "pycharm": {
     "name": "#%%\n"
    }
   }
  },
  {
   "cell_type": "code",
   "execution_count": 23,
   "outputs": [
    {
     "name": "stdout",
     "output_type": "stream",
     "text": [
      "[[53  2]\n",
      " [ 2 86]]\n"
     ]
    }
   ],
   "source": [
    "print(confusion_matrix(y_test, predictions))"
   ],
   "metadata": {
    "collapsed": false,
    "pycharm": {
     "name": "#%%\n"
    }
   }
  },
  {
   "cell_type": "code",
   "execution_count": null,
   "outputs": [],
   "source": [
    "\n"
   ],
   "metadata": {
    "collapsed": false,
    "pycharm": {
     "name": "#%%\n"
    }
   }
  }
 ],
 "metadata": {
  "kernelspec": {
   "name": "unit4-sprint2",
   "language": "python",
   "display_name": "Unit4-Sprint2 (Python3)"
  },
  "language_info": {
   "codemirror_mode": {
    "name": "ipython",
    "version": 2
   },
   "file_extension": ".py",
   "mimetype": "text/x-python",
   "name": "python",
   "nbconvert_exporter": "python",
   "pygments_lexer": "ipython2",
   "version": "2.7.6"
  }
 },
 "nbformat": 4,
 "nbformat_minor": 0
}